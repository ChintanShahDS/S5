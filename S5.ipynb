{
  "cells": [
    {
      "cell_type": "markdown",
      "metadata": {
        "id": "n09vaEgP6pLj"
      },
      "source": [
        "CODE BLOCK: 1"
      ]
    },
    {
      "cell_type": "markdown",
      "metadata": {
        "id": "Df6R_VinBXGE"
      },
      "source": [
        "<!--\n",
        ">**This is Bold**\n",
        ">>*This is Italics*\n",
        ">>>- Simple statement\n",
        ">>> - `string`\n",
        ">>>> - $ mathematical symbols $\n",
        ">>>> 1. Number 1\n",
        ">>>> 2. Number 2\n",
        "\n",
        "\n",
        "&#x25BA;\n",
        "\n",
        "\n",
        "*** -->"
      ]
    },
    {
      "cell_type": "markdown",
      "metadata": {
        "id": "DwPH_oyhBXGF"
      },
      "source": [
        "# Session 5 - Assignment - Modular and Better Commented Code\n",
        "\n",
        "# First CNN Network for MNIST\n",
        "\n",
        "## Modular Code\n",
        "- Divide the code into 3 main files\n",
        "    - model.py: *This file holds the model related details*\n",
        "    - utils.py: *This file holds the utility functions that might be commonly required*\n",
        "    - S5.ipynb: *Main Notebook file that has the variables, configuration parameters and actual calls\n",
        "    \n",
        "<a id=\"section-1\">section-1</a>"
      ]
    },
    {
      "cell_type": "markdown",
      "metadata": {
        "id": "7dsrOigmBXGG"
      },
      "source": [
        "### [1. Import appropriate modules required in this file](#section-1)\n",
        "- import model: importing the code written in model.py that is kept in path of current working directory\n",
        "- import utils: Similarly importing code in utils.py"
      ]
    },
    {
      "cell_type": "code",
      "execution_count": 1,
      "metadata": {
        "id": "6PlbomWY3RSq"
      },
      "outputs": [],
      "source": [
        "import torch\n",
        "import torch.optim as optim\n",
        "import torch.nn.functional as F\n",
        "from torchvision import datasets, transforms\n",
        "from torchsummary import summary\n",
        "\n",
        "import model\n",
        "import utils"
      ]
    },
    {
      "cell_type": "markdown",
      "metadata": {
        "id": "VjBHHQVA6sXt"
      },
      "source": [
        "CODE BLOCK: 2"
      ]
    },
    {
      "cell_type": "markdown",
      "metadata": {
        "id": "Dw9WOPNVBXGK"
      },
      "source": [
        "### [2. Check if GPU (CUDA) or CPU](#section-2)\n",
        "- Cuda availablbility check to ensure using GPU if available for the network\n",
        "- Taking the value into device variable if cuda (GPU) or only CPU"
      ]
    },
    {
      "cell_type": "code",
      "execution_count": 2,
      "metadata": {
        "colab": {
          "base_uri": "https://localhost:8080/"
        },
        "id": "94BxVVBP3WwS",
        "outputId": "cec829dc-36e0-4c31-eaef-7a895c24105e"
      },
      "outputs": [
        {
          "output_type": "stream",
          "name": "stdout",
          "text": [
            "CUDA Available? True\n"
          ]
        }
      ],
      "source": [
        "use_cuda = torch.cuda.is_available()\n",
        "print(\"CUDA Available?\", use_cuda)\n",
        "device = torch.device(\"cuda\" if use_cuda else \"cpu\")"
      ]
    },
    {
      "cell_type": "markdown",
      "metadata": {
        "id": "3UHq59Sw6tmW"
      },
      "source": [
        "CODE BLOCK: 3"
      ]
    },
    {
      "cell_type": "markdown",
      "metadata": {
        "id": "q83m4W4eLfBd"
      },
      "source": [
        "### [3. Data transforms for training and testing](#section-3)\n",
        "- Transforms specific to the training and testing\n",
        "- Training to include different transformations for the model to learn\n",
        "- Testing not to have the same to ensure validation is on normal set"
      ]
    },
    {
      "cell_type": "code",
      "execution_count": 3,
      "metadata": {
        "id": "OVfqiUyyLfBe"
      },
      "outputs": [],
      "source": [
        "# Train data transformations\n",
        "train_transforms = transforms.Compose([\n",
        "    transforms.RandomApply([transforms.CenterCrop(22), ], p=0.1),\n",
        "    transforms.Resize((28, 28)),\n",
        "    transforms.RandomRotation((-15., 15.), fill=0),\n",
        "    transforms.ToTensor(),\n",
        "    transforms.Normalize((0.1307,), (0.3081,)),\n",
        "    ])\n",
        "\n",
        "# Test data transformations\n",
        "test_transforms = transforms.Compose([\n",
        "    transforms.ToTensor(),\n",
        "    transforms.Normalize((0.1307,), (0.3081,))\n",
        "    ])"
      ]
    },
    {
      "cell_type": "markdown",
      "metadata": {
        "id": "gK3NQ6U6BXGM"
      },
      "source": [
        "### [4. Getting the MNIST train and test dataset from torchvision datasets library](#section-4)\n",
        "- Already separated datasets for train and test\n",
        "- train with *??* records and test with *10000* records\n",
        "- Marking train as True of False decides the train vs test data sets\n",
        "- The transforms are being loaded from utils file\n",
        "- transforms being done on train but not on test"
      ]
    },
    {
      "cell_type": "code",
      "execution_count": 4,
      "metadata": {
        "id": "JB79ZYW13-AO"
      },
      "outputs": [],
      "source": [
        "train_data = datasets.MNIST('../data', train=True, download=True, transform=train_transforms)\n",
        "test_data = datasets.MNIST('../data', train=False, download=True, transform=test_transforms)"
      ]
    },
    {
      "cell_type": "markdown",
      "metadata": {
        "id": "_PKSHxto6116"
      },
      "source": [
        "CODE BLOCK: 5"
      ]
    },
    {
      "cell_type": "markdown",
      "metadata": {
        "id": "gjMoEkUJBXGY"
      },
      "source": [
        "### [5. Data loader setup for Training and Testing](#section-5)\n",
        "- Batch size definition - Keeping separate for Training and Testing\n",
        "- Training lower for better training and Testing higher for faster validation\n",
        "- Data loader definition"
      ]
    },
    {
      "cell_type": "code",
      "execution_count": 5,
      "metadata": {
        "id": "avCKK1uL4A68"
      },
      "outputs": [],
      "source": [
        "train_batch_size = 512\n",
        "test_batch_size = 2048"
      ]
    },
    {
      "cell_type": "code",
      "execution_count": 6,
      "metadata": {
        "id": "uqXVzK3VBXGZ"
      },
      "outputs": [],
      "source": [
        "# train_args = {'batch_size': train_batch_size, 'shuffle': True, 'num_workers': 2, 'pin_memory': True}\n",
        "# test_args = {'batch_size': test_batch_size, 'shuffle': True, 'num_workers': 2, 'pin_memory': True}\n",
        "kwargs = {'shuffle': True, 'num_workers': 2, 'pin_memory': True}\n",
        "\n",
        "train_loader = torch.utils.data.DataLoader(train_data, batch_size=train_batch_size, **kwargs)\n",
        "test_loader = torch.utils.data.DataLoader(test_data, batch_size=test_batch_size, **kwargs)"
      ]
    },
    {
      "cell_type": "markdown",
      "metadata": {
        "id": "Hi_0rfq56-29"
      },
      "source": [
        "CODE BLOCK: 6"
      ]
    },
    {
      "cell_type": "markdown",
      "metadata": {
        "id": "cnrOq8wMBXGa"
      },
      "source": [
        "### [6. Data Visualization](#section-6)\n",
        "- Visualization of data to understand the images and corresponding labels\n",
        "- Also gives an understanding of the dataloader like Shuffle, etc."
      ]
    },
    {
      "cell_type": "code",
      "execution_count": 7,
      "metadata": {
        "colab": {
          "base_uri": "https://localhost:8080/",
          "height": 463
        },
        "id": "Hx7QkLcw4Epc",
        "outputId": "848979a2-91cc-4396-e7fe-ea4a6381f7ca"
      },
      "outputs": [
        {
          "output_type": "display_data",
          "data": {
            "text/plain": [
              "<Figure size 640x480 with 12 Axes>"
            ],
            "image/png": "[encoded data removed]"
          },
          "metadata": {}
        }
      ],
      "source": [
        "import matplotlib.pyplot as plt\n",
        "\n",
        "batch_data, batch_label = next(iter(train_loader))\n",
        "\n",
        "fig = plt.figure()\n",
        "\n",
        "for i in range(12):\n",
        "  plt.subplot(3,4,i+1)\n",
        "  plt.tight_layout()\n",
        "  plt.imshow(batch_data[i].squeeze(0), cmap='gray')\n",
        "  plt.title(batch_label[i].item())\n",
        "  plt.xticks([])\n",
        "  plt.yticks([])"
      ]
    },
    {
      "cell_type": "markdown",
      "metadata": {
        "id": "09GYKBGRAT5M"
      },
      "source": [
        "CODE BLOCK: 10"
      ]
    },
    {
      "cell_type": "markdown",
      "metadata": {
        "id": "NLVQ9d8PBXGb"
      },
      "source": [
        "### [7. Model training](#section-7)\n",
        "- Loading the model on the right device - CUDA or CPU\n",
        "- Setting up the right parameters like epochs, optimizer and scheduler for the training\n",
        "- Running the training and validating the output against Test dataset\n",
        "- While doing that also storing the loss and accuracy results for each epoch for understanding"
      ]
    },
    {
      "cell_type": "code",
      "execution_count": 8,
      "metadata": {
        "id": "7du4zM474LvT"
      },
      "outputs": [],
      "source": [
        "# Data to plot accuracy and loss graphs\n",
        "train_losses = []\n",
        "test_losses = []\n",
        "train_accs = []\n",
        "test_accs = []\n",
        "\n",
        "test_incorrect_pred = {'images': [], 'ground_truths': [], 'predicted_vals': []}"
      ]
    },
    {
      "cell_type": "code",
      "execution_count": 9,
      "metadata": {
        "colab": {
          "base_uri": "https://localhost:8080/"
        },
        "id": "Owqiet9M4TV7",
        "outputId": "81060c93-51b4-46a2-ed5b-c8a3c13d38b5"
      },
      "outputs": [
        {
          "output_type": "stream",
          "name": "stdout",
          "text": [
            "----------------------------------------------------------------\n",
            "        Layer (type)               Output Shape         Param #\n",
            "================================================================\n",
            "            Conv2d-1           [-1, 32, 26, 26]             320\n",
            "            Conv2d-2           [-1, 64, 24, 24]          18,496\n",
            "            Conv2d-3          [-1, 128, 10, 10]          73,856\n",
            "            Conv2d-4            [-1, 256, 8, 8]         295,168\n",
            "            Linear-5                   [-1, 50]         204,850\n",
            "            Linear-6                   [-1, 10]             510\n",
            "================================================================\n",
            "Total params: 593,200\n",
            "Trainable params: 593,200\n",
            "Non-trainable params: 0\n",
            "----------------------------------------------------------------\n",
            "Input size (MB): 0.00\n",
            "Forward/backward pass size (MB): 0.67\n",
            "Params size (MB): 2.26\n",
            "Estimated Total Size (MB): 2.94\n",
            "----------------------------------------------------------------\n",
            "Adjusting learning rate of group 0 to 1.0000e-02.\n",
            "Epoch 1\n"
          ]
        },
        {
          "output_type": "stream",
          "name": "stderr",
          "text": [
            "Train: Loss=0.3251 Batch_id=117 Accuracy=56.46: 100%|██████████| 118/118 [00:31<00:00,  3.80it/s]\n"
          ]
        },
        {
          "output_type": "stream",
          "name": "stdout",
          "text": [
            "Test set: Average loss: 0.1715, Accuracy: 9491/10000 (94.91%)\n",
            "\n",
            "Adjusting learning rate of group 0 to 1.0000e-02.\n",
            "Epoch 2\n"
          ]
        },
        {
          "output_type": "stream",
          "name": "stderr",
          "text": [
            "Train: Loss=0.1284 Batch_id=117 Accuracy=94.70: 100%|██████████| 118/118 [00:20<00:00,  5.66it/s]\n"
          ]
        },
        {
          "output_type": "stream",
          "name": "stdout",
          "text": [
            "Test set: Average loss: 0.0856, Accuracy: 9725/10000 (97.25%)\n",
            "\n",
            "Adjusting learning rate of group 0 to 1.0000e-02.\n",
            "Epoch 3\n"
          ]
        },
        {
          "output_type": "stream",
          "name": "stderr",
          "text": [
            "Train: Loss=0.0933 Batch_id=117 Accuracy=96.35: 100%|██████████| 118/118 [00:21<00:00,  5.59it/s]\n"
          ]
        },
        {
          "output_type": "stream",
          "name": "stdout",
          "text": [
            "Test set: Average loss: 0.0571, Accuracy: 9833/10000 (98.33%)\n",
            "\n",
            "Adjusting learning rate of group 0 to 1.0000e-02.\n",
            "Epoch 4\n"
          ]
        },
        {
          "output_type": "stream",
          "name": "stderr",
          "text": [
            "Train: Loss=0.0854 Batch_id=117 Accuracy=97.28: 100%|██████████| 118/118 [00:21<00:00,  5.47it/s]\n"
          ]
        },
        {
          "output_type": "stream",
          "name": "stdout",
          "text": [
            "Test set: Average loss: 0.0538, Accuracy: 9826/10000 (98.26%)\n",
            "\n",
            "Adjusting learning rate of group 0 to 1.0000e-02.\n",
            "Epoch 5\n"
          ]
        },
        {
          "output_type": "stream",
          "name": "stderr",
          "text": [
            "Train: Loss=0.0802 Batch_id=117 Accuracy=97.59: 100%|██████████| 118/118 [00:21<00:00,  5.42it/s]\n"
          ]
        },
        {
          "output_type": "stream",
          "name": "stdout",
          "text": [
            "Test set: Average loss: 0.0388, Accuracy: 9887/10000 (98.87%)\n",
            "\n",
            "Adjusting learning rate of group 0 to 1.0000e-02.\n",
            "Epoch 6\n"
          ]
        },
        {
          "output_type": "stream",
          "name": "stderr",
          "text": [
            "Train: Loss=0.1085 Batch_id=117 Accuracy=97.99: 100%|██████████| 118/118 [00:22<00:00,  5.19it/s]\n"
          ]
        },
        {
          "output_type": "stream",
          "name": "stdout",
          "text": [
            "Test set: Average loss: 0.0382, Accuracy: 9881/10000 (98.81%)\n",
            "\n",
            "Adjusting learning rate of group 0 to 1.0000e-02.\n",
            "Epoch 7\n"
          ]
        },
        {
          "output_type": "stream",
          "name": "stderr",
          "text": [
            "Train: Loss=0.0209 Batch_id=117 Accuracy=98.19: 100%|██████████| 118/118 [00:21<00:00,  5.57it/s]\n"
          ]
        },
        {
          "output_type": "stream",
          "name": "stdout",
          "text": [
            "Test set: Average loss: 0.0322, Accuracy: 9889/10000 (98.89%)\n",
            "\n",
            "Adjusting learning rate of group 0 to 1.0000e-02.\n",
            "Epoch 8\n"
          ]
        },
        {
          "output_type": "stream",
          "name": "stderr",
          "text": [
            "Train: Loss=0.0158 Batch_id=117 Accuracy=98.33: 100%|██████████| 118/118 [00:22<00:00,  5.25it/s]\n"
          ]
        },
        {
          "output_type": "stream",
          "name": "stdout",
          "text": [
            "Test set: Average loss: 0.0366, Accuracy: 9875/10000 (98.75%)\n",
            "\n",
            "Adjusting learning rate of group 0 to 1.0000e-02.\n",
            "Epoch 9\n"
          ]
        },
        {
          "output_type": "stream",
          "name": "stderr",
          "text": [
            "Train: Loss=0.0450 Batch_id=117 Accuracy=98.48: 100%|██████████| 118/118 [00:20<00:00,  5.84it/s]\n"
          ]
        },
        {
          "output_type": "stream",
          "name": "stdout",
          "text": [
            "Test set: Average loss: 0.0285, Accuracy: 9905/10000 (99.05%)\n",
            "\n",
            "Adjusting learning rate of group 0 to 1.0000e-02.\n",
            "Epoch 10\n"
          ]
        },
        {
          "output_type": "stream",
          "name": "stderr",
          "text": [
            "Train: Loss=0.0355 Batch_id=117 Accuracy=98.62: 100%|██████████| 118/118 [00:20<00:00,  5.79it/s]\n"
          ]
        },
        {
          "output_type": "stream",
          "name": "stdout",
          "text": [
            "Test set: Average loss: 0.0279, Accuracy: 9911/10000 (99.11%)\n",
            "\n",
            "Adjusting learning rate of group 0 to 1.0000e-02.\n",
            "Epoch 11\n"
          ]
        },
        {
          "output_type": "stream",
          "name": "stderr",
          "text": [
            "Train: Loss=0.0098 Batch_id=117 Accuracy=98.61: 100%|██████████| 118/118 [00:21<00:00,  5.37it/s]\n"
          ]
        },
        {
          "output_type": "stream",
          "name": "stdout",
          "text": [
            "Test set: Average loss: 0.0274, Accuracy: 9906/10000 (99.06%)\n",
            "\n",
            "Adjusting learning rate of group 0 to 1.0000e-02.\n",
            "Epoch 12\n"
          ]
        },
        {
          "output_type": "stream",
          "name": "stderr",
          "text": [
            "Train: Loss=0.0348 Batch_id=117 Accuracy=98.66: 100%|██████████| 118/118 [00:21<00:00,  5.42it/s]\n"
          ]
        },
        {
          "output_type": "stream",
          "name": "stdout",
          "text": [
            "Test set: Average loss: 0.0273, Accuracy: 9906/10000 (99.06%)\n",
            "\n",
            "Adjusting learning rate of group 0 to 1.0000e-02.\n",
            "Epoch 13\n"
          ]
        },
        {
          "output_type": "stream",
          "name": "stderr",
          "text": [
            "Train: Loss=0.0104 Batch_id=117 Accuracy=98.76: 100%|██████████| 118/118 [00:21<00:00,  5.45it/s]\n"
          ]
        },
        {
          "output_type": "stream",
          "name": "stdout",
          "text": [
            "Test set: Average loss: 0.0235, Accuracy: 9916/10000 (99.16%)\n",
            "\n",
            "Adjusting learning rate of group 0 to 1.0000e-02.\n",
            "Epoch 14\n"
          ]
        },
        {
          "output_type": "stream",
          "name": "stderr",
          "text": [
            "Train: Loss=0.0314 Batch_id=117 Accuracy=98.89: 100%|██████████| 118/118 [00:21<00:00,  5.42it/s]\n"
          ]
        },
        {
          "output_type": "stream",
          "name": "stdout",
          "text": [
            "Test set: Average loss: 0.0258, Accuracy: 9912/10000 (99.12%)\n",
            "\n",
            "Adjusting learning rate of group 0 to 1.0000e-02.\n",
            "Epoch 15\n"
          ]
        },
        {
          "output_type": "stream",
          "name": "stderr",
          "text": [
            "Train: Loss=0.0289 Batch_id=117 Accuracy=98.85: 100%|██████████| 118/118 [00:21<00:00,  5.55it/s]\n"
          ]
        },
        {
          "output_type": "stream",
          "name": "stdout",
          "text": [
            "Test set: Average loss: 0.0267, Accuracy: 9911/10000 (99.11%)\n",
            "\n",
            "Adjusting learning rate of group 0 to 1.0000e-03.\n",
            "Epoch 16\n"
          ]
        },
        {
          "output_type": "stream",
          "name": "stderr",
          "text": [
            "Train: Loss=0.0118 Batch_id=117 Accuracy=99.11: 100%|██████████| 118/118 [00:21<00:00,  5.59it/s]\n"
          ]
        },
        {
          "output_type": "stream",
          "name": "stdout",
          "text": [
            "Test set: Average loss: 0.0208, Accuracy: 9925/10000 (99.25%)\n",
            "\n",
            "Adjusting learning rate of group 0 to 1.0000e-03.\n",
            "Epoch 17\n"
          ]
        },
        {
          "output_type": "stream",
          "name": "stderr",
          "text": [
            "Train: Loss=0.0039 Batch_id=117 Accuracy=99.20: 100%|██████████| 118/118 [00:20<00:00,  5.63it/s]\n"
          ]
        },
        {
          "output_type": "stream",
          "name": "stdout",
          "text": [
            "Test set: Average loss: 0.0201, Accuracy: 9930/10000 (99.30%)\n",
            "\n",
            "Adjusting learning rate of group 0 to 1.0000e-03.\n",
            "Epoch 18\n"
          ]
        },
        {
          "output_type": "stream",
          "name": "stderr",
          "text": [
            "Train: Loss=0.0109 Batch_id=117 Accuracy=99.20: 100%|██████████| 118/118 [00:21<00:00,  5.37it/s]\n"
          ]
        },
        {
          "output_type": "stream",
          "name": "stdout",
          "text": [
            "Test set: Average loss: 0.0203, Accuracy: 9925/10000 (99.25%)\n",
            "\n",
            "Adjusting learning rate of group 0 to 1.0000e-03.\n",
            "Epoch 19\n"
          ]
        },
        {
          "output_type": "stream",
          "name": "stderr",
          "text": [
            "Train: Loss=0.0061 Batch_id=117 Accuracy=99.20: 100%|██████████| 118/118 [00:21<00:00,  5.41it/s]\n"
          ]
        },
        {
          "output_type": "stream",
          "name": "stdout",
          "text": [
            "Test set: Average loss: 0.0201, Accuracy: 9924/10000 (99.24%)\n",
            "\n",
            "Adjusting learning rate of group 0 to 1.0000e-03.\n",
            "Epoch 20\n"
          ]
        },
        {
          "output_type": "stream",
          "name": "stderr",
          "text": [
            "Train: Loss=0.0084 Batch_id=117 Accuracy=99.26: 100%|██████████| 118/118 [00:22<00:00,  5.18it/s]\n"
          ]
        },
        {
          "output_type": "stream",
          "name": "stdout",
          "text": [
            "Test set: Average loss: 0.0199, Accuracy: 9920/10000 (99.20%)\n",
            "\n",
            "Adjusting learning rate of group 0 to 1.0000e-03.\n"
          ]
        }
      ],
      "source": [
        "mymodel = model.Net().to(device)\n",
        "\n",
        "summary(mymodel, input_size=(1, 28, 28))\n",
        "\n",
        "optimizer = optim.SGD(mymodel.parameters(), lr=0.01, momentum=0.9)\n",
        "scheduler = optim.lr_scheduler.StepLR(optimizer, step_size=15, gamma=0.1, verbose=True)\n",
        "# New Line\n",
        "criterion = F.nll_loss\n",
        "num_epochs = 20\n",
        "\n",
        "for epoch in range(1, num_epochs+1):\n",
        "  print(f'Epoch {epoch}')\n",
        "  train_acc, train_loss = utils.train(mymodel, device, train_loader, optimizer, criterion)\n",
        "  test_acc, test_loss = utils.test(mymodel, device, test_loader, criterion)\n",
        "  train_accs.append(train_acc)\n",
        "  train_losses.append(train_loss)\n",
        "  test_accs.append(test_acc)\n",
        "  test_losses.append(test_loss)\n",
        "  scheduler.step()"
      ]
    },
    {
      "cell_type": "markdown",
      "metadata": {
        "id": "B-LM-Z1k6FcF"
      },
      "source": [
        "CODE BLOCK: 11"
      ]
    },
    {
      "cell_type": "markdown",
      "metadata": {
        "id": "SRTtZqmhBXGc"
      },
      "source": [
        "### [8. Model Accuracy and Loss plots visualization](#section-8)\n",
        "- Part of utils\n",
        "- Drawing plots of Training and Testing accuracy and loss\n",
        "- This gives us an understanding of how the accuracy and losses improved over epochs\n",
        "- Also helps to understand where we should have stopped the training for optimum results"
      ]
    },
    {
      "cell_type": "code",
      "execution_count": 10,
      "metadata": {
        "colab": {
          "base_uri": "https://localhost:8080/",
          "height": 599
        },
        "id": "Wu0l7dli4eC9",
        "outputId": "537b6520-7189-4ca5-dd34-a34e553cf5e6"
      },
      "outputs": [
        {
          "output_type": "display_data",
          "data": {
            "text/plain": [
              "<Figure size 1500x1000 with 4 Axes>"
            ],
            "image/png": "[encoded data removed]"
          },
          "metadata": {}
        }
      ],
      "source": [
        "utils.drawLossAccuracyPlots(train_losses, train_accs, test_losses, test_accs)"
      ]
    },
    {
      "cell_type": "code",
      "execution_count": 10,
      "metadata": {
        "id": "QQptGHqvS4WT"
      },
      "outputs": [],
      "source": []
    }
  ],
  "metadata": {
    "accelerator": "GPU",
    "colab": {
      "gpuType": "T4",
      "provenance": []
    },
    "gpuClass": "standard",
    "kernelspec": {
      "display_name": "Python 3 (ipykernel)",
      "language": "python",
      "name": "python3"
    },
    "language_info": {
      "codemirror_mode": {
        "name": "ipython",
        "version": 3
      },
      "file_extension": ".py",
      "mimetype": "text/x-python",
      "name": "python",
      "nbconvert_exporter": "python",
      "pygments_lexer": "ipython3",
      "version": "3.11.4"
    }
  },
  "nbformat": 4,
  "nbformat_minor": 0
}